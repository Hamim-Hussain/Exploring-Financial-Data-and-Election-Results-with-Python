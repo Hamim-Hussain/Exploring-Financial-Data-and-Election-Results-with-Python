{
 "cells": [
  {
   "cell_type": "code",
   "execution_count": 2,
   "id": "bc798236",
   "metadata": {
    "scrolled": true
   },
   "outputs": [
    {
     "name": "stdout",
     "output_type": "stream",
     "text": [
      "Election Results\n",
      "-------------------------\n",
      "Total Votes: 369711\n",
      "-------------------------\n",
      "Charles Casper Stockham: 23.049%  (85213)\n",
      "Diana DeGette: 73.812%  (272892)\n",
      "Raymon Anthony Doane: 3.139%  (11606)\n",
      "------------------------- \n",
      "Winner: Diana DeGette\n",
      "-------------------------\n"
     ]
    }
   ],
   "source": [
    "#first import the operating system module (this will allow us to navigate, get inforamtion, read and do more things with the system files)\n",
    "import os\n",
    "# import a csv module as we are going to read/write over as csv file\n",
    "import csv\n",
    "\n",
    "#set a path for file (make sure the csv file is in the same directory as the coding script)\n",
    "csvpath = os.path.join('election_data.csv')\n",
    "\n",
    "#the csv file is opened using the with statement, and a csv.reader object is created\n",
    "with open(csvpath, 'r') as csvfile:\n",
    "    csvread = csv.reader(csvfile)\n",
    "    \n",
    "    #the next function is called to skip the header row of the csv file\n",
    "    next(csvread)\n",
    "    \n",
    "    #a dictionary called poll is created to store the name of each candidate as the key and the number of votes as the value\n",
    "    poll = {}\n",
    "    \n",
    "    #creates list used to store candidates, vote counts, vote percent, and winner list\n",
    "    number_votes = []\n",
    "    candidates = []\n",
    "    vote_percent = []\n",
    "    winner_list = []\n",
    "    \n",
    "    #Set variable for total votes as a counter, starting at 0, , which will later be used to count the total number of votes cast\n",
    "    total_votes = 0\n",
    "\n",
    "    # this counts the total number of votes cast in the election, and tallies the number of votes each candidate received by incrementing the count for that candidate's name in the poll dictionary  \n",
    "    for row in csvread:\n",
    "        total_votes = total_votes + 1\n",
    "        if row[2] in poll.keys():\n",
    "            poll[row[2]] = poll[row[2]] + 1\n",
    "        else:\n",
    "            poll[row[2]] = 1\n",
    " \n",
    " # this loops through each item in poll using the items() method, which returns a tuple for each key-value pair\n",
    "for key, value in poll.items():\n",
    "    candidates.append(key)\n",
    "    number_votes.append(value)\n",
    "\n",
    "#append vote percent\n",
    "for n in number_votes:\n",
    "    #round percentage to 3 d.p.\n",
    "    vote_percent.append(round(n/total_votes*100, 3))\n",
    "\n",
    "#clean_data is a list of tuples, where each tuple contains a candidate's name, number of votes they received, and their percentage of the total votes\n",
    "clean_data = list(zip(candidates, number_votes, vote_percent))\n",
    "\n",
    "#for loop to look through winner_list (which will contain the names of all the candidates) to find who received the most votes\n",
    "for name in clean_data:\n",
    "    if max(number_votes) == name[1]:\n",
    "        winner_list.append(name[0])\n",
    "\n",
    "#makes winner_list as a string with the first entry\n",
    "winner = winner_list[0]\n",
    "\n",
    "#when there is a tie, additional winners are added into a string that is separated by commas\n",
    "if len(winner_list) > 1:\n",
    "    for w in range(1, len(winner_list)):\n",
    "        winner = winner + \", \" + winner_list[w]\n",
    "\n",
    "#prints to file\n",
    "output_file = os.path.join('election_analysis.txt')\n",
    "\n",
    "with open(output_file, 'w') as text:\n",
    "    text.write('Election Results\\n')\n",
    "    text.write('-------------------------\\n')\n",
    "    text.write('Total Votes: ' + str(total_votes) + '\\n')\n",
    "    text.write('-------------------------\\n')\n",
    "    for entry in clean_data:\n",
    "        text.write(entry[0] + \": \" + str(entry[2]) +'%  (' + str(entry[1]) + ')\\n')\n",
    "    text.write('------------------------- \\n')\n",
    "    text.write('Winner: ' + winner + '\\n')\n",
    "    text.write('-------------------------')\n",
    "\n",
    "#prints file to as read file\n",
    "with open(output_file, 'r') as readfile:\n",
    "    print(readfile.read())"
   ]
  },
  {
   "cell_type": "code",
   "execution_count": null,
   "id": "ae4864b3",
   "metadata": {},
   "outputs": [],
   "source": []
  },
  {
   "cell_type": "code",
   "execution_count": null,
   "id": "152b6965",
   "metadata": {},
   "outputs": [],
   "source": []
  }
 ],
 "metadata": {
  "kernelspec": {
   "display_name": "Python 3 (ipykernel)",
   "language": "python",
   "name": "python3"
  },
  "language_info": {
   "codemirror_mode": {
    "name": "ipython",
    "version": 3
   },
   "file_extension": ".py",
   "mimetype": "text/x-python",
   "name": "python",
   "nbconvert_exporter": "python",
   "pygments_lexer": "ipython3",
   "version": "3.9.13"
  }
 },
 "nbformat": 4,
 "nbformat_minor": 5
}
