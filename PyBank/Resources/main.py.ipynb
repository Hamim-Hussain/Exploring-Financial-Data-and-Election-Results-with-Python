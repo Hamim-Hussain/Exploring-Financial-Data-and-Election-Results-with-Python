{
 "cells": [
  {
   "cell_type": "code",
   "execution_count": 21,
   "id": "56ccca02",
   "metadata": {},
   "outputs": [
    {
     "name": "stdout",
     "output_type": "stream",
     "text": [
      "Financial Analysis\n",
      "----------------------------\n",
      "Total Months: 86\n",
      "Total: $22564198\n",
      "Average Change: $-8311.11\n",
      "Greatest Increase in Profits: Aug-16 ($1862002)\n",
      "Greatest Decrease in Profits: Feb-14 ($-1825558)\n"
     ]
    }
   ],
   "source": [
    "#first import the operating system module (this will allow us to navigate, get inforamtion, read and do more things with the system files)\n",
    "import os\n",
    "# import a csv module as we are going to read/write over as csv file\n",
    "import csv\n",
    "\n",
    "\n",
    "#set a path for file (make sure the csv file is in the same directory as the coding script)\n",
    "csvpath = os.path.join('budget_data.csv')\n",
    "\n",
    "#open the csv file\n",
    "with open(csvpath) as csvfile:\n",
    "    #Identify the delimiter (which are the commas that seperate the values for date and profit) and the variable holding the contents\n",
    "    csvread = csv.reader(csvfile, delimiter=',')\n",
    "    next(csvread) \n",
    "    \n",
    "    # creating lists for the columns 'date' and 'profit/losses'\n",
    "    change_list=[]\n",
    "    months = []\n",
    "    profits = []\n",
    "    \n",
    "    # setting the starting conditions\n",
    "    change=0\n",
    "    greatest_increase = 0\n",
    "    greatest_decrease = 0\n",
    "    \n",
    "    #profit list is converted to integers (as we are dealing with numbers)\n",
    "    #using append to add rows to the month and profits list\n",
    "    for row in csvread:\n",
    "        profits.append(int(row[1]))\n",
    "        months.append(row[0])\n",
    "        \n",
    "#goes through profits\n",
    "profits = [int(row) for row in profits]\n",
    "\n",
    "#for loop through profits indices to find greatest increase and greatest decrease\n",
    "for x in range(len(profits)):\n",
    "    if x < len(profits) - 1:\n",
    "        change = change + (profits[x + 1] - profits[x])\n",
    "        change_list.append(change)\n",
    "        change = 0\n",
    "\n",
    "#add each profits to total profits, then calculate the average change and rounding values\n",
    "average_change = round(sum(change_list) / len(change_list),2)\n",
    "greatest_increase = max(change_list)\n",
    "greatest_decrease = min(change_list)\n",
    "greatest_decrease_month = change_list.index(greatest_decrease)\n",
    "greatest_increase_month = change_list.index(greatest_increase)\n",
    "\n",
    "#set variable for greatest and least month\n",
    "greatest_month = months[greatest_increase_month+1]\n",
    "least_month = months[greatest_decrease_month+1]\n",
    "\n",
    "#creates a path for output file called pybank_output\n",
    "output_file = os.path.join('pybank_analysis.txt')\n",
    "\n",
    "#opens the output in text mode and prints the summary\n",
    "with open(output_file, 'w') as text:\n",
    "    text.write('Financial Analysis\\n')\n",
    "    text.write('----------------------------' + '\\n')\n",
    "    text.write('Total Months: ' + str(len(months)) + '\\n')\n",
    "    text.write('Total: $' + str(sum(profits)) + '\\n')\n",
    "    text.write('Average Change: $' + str((average_change)) + '\\n')\n",
    "    text.write('Greatest Increase in Profits: ' + greatest_month + ' ($' + str(greatest_increase) + ')'+ '\\n')\n",
    "    text.write('Greatest Decrease in Profits: ' + least_month + ' ($' + str(greatest_decrease) + ')')\n",
    "\n",
    "#opens the output file in readfile mode and prints\n",
    "with open(output_file, 'r') as readfile:\n",
    "    print(readfile.read())"
   ]
  },
  {
   "cell_type": "code",
   "execution_count": null,
   "id": "eb3c07bb",
   "metadata": {},
   "outputs": [],
   "source": []
  },
  {
   "cell_type": "code",
   "execution_count": null,
   "id": "6d895190",
   "metadata": {},
   "outputs": [],
   "source": []
  }
 ],
 "metadata": {
  "kernelspec": {
   "display_name": "Python 3 (ipykernel)",
   "language": "python",
   "name": "python3"
  },
  "language_info": {
   "codemirror_mode": {
    "name": "ipython",
    "version": 3
   },
   "file_extension": ".py",
   "mimetype": "text/x-python",
   "name": "python",
   "nbconvert_exporter": "python",
   "pygments_lexer": "ipython3",
   "version": "3.9.13"
  }
 },
 "nbformat": 4,
 "nbformat_minor": 5
}
